{
 "cells": [
  {
   "cell_type": "code",
   "execution_count": 12,
   "metadata": {},
   "outputs": [
    {
     "name": "stdout",
     "output_type": "stream",
     "text": [
      "Enter Square Feet2500\n",
      "Enter Bedroom2\n",
      "Enter age20\n",
      "(2500.0, 2.0, 20.0)\n",
      "[[2.5e+03 2.0e+00 2.0e+01]]\n"
     ]
    }
   ],
   "source": [
    "sqr=float(input('Enter Square Feet'))\n",
    "Bedroom=float(input('Enter Bedroom'))\n",
    "Age=float(input('Enter age'))\n",
    "l=sqr,Bedroom,Age\n",
    "print(l)\n",
    "import numpy as np\n",
    "arr=np.array(l)\n",
    "arr=arr.reshape(1,3)\n",
    "print(arr)"
   ]
  },
  {
   "cell_type": "code",
   "execution_count": 2,
   "metadata": {},
   "outputs": [],
   "source": []
  },
  {
   "cell_type": "code",
   "execution_count": 4,
   "metadata": {},
   "outputs": [
    {
     "data": {
      "text/plain": [
       "array([ 6.01125077e+01,  8.11479440e+04, -1.47406365e+02])"
      ]
     },
     "execution_count": 4,
     "metadata": {},
     "output_type": "execute_result"
    }
   ],
   "source": [
    "model.coef_"
   ]
  },
  {
   "cell_type": "code",
   "execution_count": 15,
   "metadata": {},
   "outputs": [],
   "source": [
    "def showprice():\n",
    "    sqr=float(input('Enter Square Feet'))\n",
    "    Bedroom=float(input('Enter Bedroom'))\n",
    "    Age=float(input('Enter age'))\n",
    "    l=sqr,Bedroom,Age\n",
    "    print(l)\n",
    "    import numpy as np\n",
    "    arr=np.array(l)\n",
    "    arr=arr.reshape(1,3)\n",
    "    from sklearn.externals import joblib\n",
    "    model=joblib.load('E:\\housemult')\n",
    "    print(model.predict(arr))"
   ]
  },
  {
   "cell_type": "code",
   "execution_count": 16,
   "metadata": {},
   "outputs": [
    {
     "name": "stdout",
     "output_type": "stream",
     "text": [
      "Enter Square Feet2500\n",
      "Enter Bedroom4\n",
      "Enter age6\n",
      "(2500.0, 4.0, 6.0)\n",
      "[611805.59956281]\n"
     ]
    }
   ],
   "source": [
    "showprice()"
   ]
  },
  {
   "cell_type": "code",
   "execution_count": null,
   "metadata": {},
   "outputs": [],
   "source": []
  }
 ],
 "metadata": {
  "kernelspec": {
   "display_name": "Python 3",
   "language": "python",
   "name": "python3"
  },
  "language_info": {
   "codemirror_mode": {
    "name": "ipython",
    "version": 3
   },
   "file_extension": ".py",
   "mimetype": "text/x-python",
   "name": "python",
   "nbconvert_exporter": "python",
   "pygments_lexer": "ipython3",
   "version": "3.7.3"
  },
  "varInspector": {
   "cols": {
    "lenName": 16,
    "lenType": 16,
    "lenVar": 40
   },
   "kernels_config": {
    "python": {
     "delete_cmd_postfix": "",
     "delete_cmd_prefix": "del ",
     "library": "var_list.py",
     "varRefreshCmd": "print(var_dic_list())"
    },
    "r": {
     "delete_cmd_postfix": ") ",
     "delete_cmd_prefix": "rm(",
     "library": "var_list.r",
     "varRefreshCmd": "cat(var_dic_list()) "
    }
   },
   "types_to_exclude": [
    "module",
    "function",
    "builtin_function_or_method",
    "instance",
    "_Feature"
   ],
   "window_display": false
  }
 },
 "nbformat": 4,
 "nbformat_minor": 2
}
